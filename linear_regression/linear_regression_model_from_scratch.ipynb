{
 "cells": [
  {
   "cell_type": "code",
   "execution_count": null,
   "metadata": {},
   "outputs": [],
   "source": [
    "\"\"\"#!/usr/bin/env python\n",
    "#title           :linear_regression_jupyter_notebook_script\n",
    "#description     :This script gives a small introduction about the Linear Regression.\n",
    "#author          :Gautam\n",
    "#date            :07/10/2023\n",
    "#last_updated    :08/10/2023\n",
    "#python-version         :3.10.11\n",
    "#notes           : \n",
    "#==============================================================================\n",
    "\n",
    "# Import the modules needed to run the script.\"\"\""
   ]
  },
  {
   "cell_type": "markdown",
   "metadata": {},
   "source": [
    "\n",
    "<H1 style=\"color:Green\"> importing Libraries </H1>\n"
   ]
  },
  {
   "cell_type": "code",
   "execution_count": null,
   "metadata": {},
   "outputs": [],
   "source": [
    "pip install pandas\n"
   ]
  },
  {
   "cell_type": "code",
   "execution_count": null,
   "metadata": {},
   "outputs": [],
   "source": [
    "\n",
    "pip install matplotlib"
   ]
  },
  {
   "cell_type": "code",
   "execution_count": null,
   "metadata": {},
   "outputs": [],
   "source": [
    "pip install tabulate"
   ]
  },
  {
   "cell_type": "code",
   "execution_count": null,
   "metadata": {},
   "outputs": [],
   "source": [
    "import pandas as pd\n",
    "import numpy as np\n",
    "import matplotlib.pyplot as plt"
   ]
  },
  {
   "cell_type": "markdown",
   "metadata": {},
   "source": [
    "<H1 style=\"color:Green\"> Reading the file </H1>\n"
   ]
  },
  {
   "cell_type": "code",
   "execution_count": null,
   "metadata": {},
   "outputs": [],
   "source": [
    "#reading the dataframe\n",
    "df = pd.read_csv(\"C:/Users/Admin/Downloads/fileInput (4).txt\")"
   ]
  },
  {
   "cell_type": "code",
   "execution_count": null,
   "metadata": {},
   "outputs": [],
   "source": [
    "print(df.to_markdown())"
   ]
  },
  {
   "cell_type": "code",
   "execution_count": null,
   "metadata": {},
   "outputs": [],
   "source": [
    "df.info()"
   ]
  },
  {
   "cell_type": "code",
   "execution_count": null,
   "metadata": {},
   "outputs": [],
   "source": [
    "# df.isnull()\n",
    "print(df.isnull())"
   ]
  },
  {
   "cell_type": "code",
   "execution_count": null,
   "metadata": {},
   "outputs": [],
   "source": [
    "df.isnull().sum()"
   ]
  },
  {
   "cell_type": "markdown",
   "metadata": {},
   "source": [
    "<h1 style=\"color:Green\"> Data Processing </h1>\n"
   ]
  },
  {
   "cell_type": "code",
   "execution_count": null,
   "metadata": {},
   "outputs": [],
   "source": [
    "df = df.dropna()\n",
    "print(\"shape of the dataframe\", df.shape)"
   ]
  },
  {
   "cell_type": "code",
   "execution_count": null,
   "metadata": {},
   "outputs": [],
   "source": [
    "df.info()"
   ]
  },
  {
   "cell_type": "markdown",
   "metadata": {},
   "source": [
    "<h1 style=\"color:Green\">Splitting Data</h1>\n"
   ]
  },
  {
   "cell_type": "code",
   "execution_count": null,
   "metadata": {},
   "outputs": [],
   "source": [
    "#Test input\n",
    "train_input = np.array(df.x[0:500]).reshape(500,1)\n",
    "train_output = np.array(df.y[0:500]).reshape(500,1)\n",
    "\n",
    "#Test output\n",
    "test_input = np.array(df.x[500:700]).reshape(199,1)\n",
    "test_output = np.array(df.y[500:700]).reshape(199,1)\n",
    "\n",
    "print(test_output)"
   ]
  },
  {
   "cell_type": "code",
   "execution_count": null,
   "metadata": {},
   "outputs": [],
   "source": [
    "print(f\"shape of train_input {train_input.shape} \")\n",
    "print(f\"shape of train_output {train_output.shape} \")\n",
    "print(f\"shape of train_output test_input {test_input.shape} \")\n",
    "print(f\"shape of train_output test_output {test_output.shape} \")"
   ]
  },
  {
   "cell_type": "markdown",
   "metadata": {},
   "source": [
    "<h1 style=\"color:Green\">Linear_ regression Model Creation</h1>\n"
   ]
  },
  {
   "cell_type": "markdown",
   "metadata": {},
   "source": [
    "Forward Propogation"
   ]
  },
  {
   "cell_type": "code",
   "execution_count": null,
   "metadata": {},
   "outputs": [],
   "source": [
    " #f(x) = m *x +c \n",
    "\n",
    "\n",
    "def forward_propagation(train_input, parameters):\n",
    "    print(\"this is m\",  parameters['m'])\n",
    "    m = parameters['m']\n",
    "    \n",
    "    \n",
    "    c = parameters['c']\n",
    "    print(\"this is c:,\",c)\n",
    "\n",
    "    predictions = np.multiply(m, train_input) + c\n",
    "    return predictions"
   ]
  },
  {
   "cell_type": "code",
   "execution_count": null,
   "metadata": {},
   "outputs": [],
   "source": [
    "def cost_function(predictions, train_output):\n",
    "\n",
    "    cost = np.mean((train_output-predictions)**2) * 0.5\n",
    "\n",
    "\n",
    "    return cost\n",
    "\n"
   ]
  },
  {
   "cell_type": "markdown",
   "metadata": {},
   "source": [
    "Gradient Descent for backward propagation"
   ]
  },
  {
   "cell_type": "code",
   "execution_count": null,
   "metadata": {},
   "outputs": [],
   "source": [
    "def backward_propagation(predictions, train_output, train_input):\n",
    "\n",
    "    derivatives = dict()\n",
    "    df = (predictions - train_output) \n",
    "    dm = np.mean(np.multiply(df, train_input))\n",
    "    dc = np.mean(df)\n",
    "    derivatives['dm'] = dm\n",
    "    derivatives['dc'] = dc\n",
    "\n",
    "    return derivatives\n",
    "\n",
    "    \n"
   ]
  },
  {
   "cell_type": "markdown",
   "metadata": {},
   "source": [
    "Update Parameters \n",
    "\n",
    "m = m - (learning_rate * dm)\n",
    "\n",
    "\n",
    "\n",
    "\n",
    "c = c - (learning_rate * dc)"
   ]
  },
  {
   "cell_type": "code",
   "execution_count": null,
   "metadata": {},
   "outputs": [],
   "source": [
    "def update_parameters(parameters, derivatives, learning_rate):\n",
    "    # print(parameters)\n",
    "    parameters['m'] = parameters['m'] - learning_rate * derivatives['dm']\n",
    "    parameters['c'] = parameters['c'] - learning_rate * derivatives['dc']\n",
    "\n",
    "    return parameters\n"
   ]
  },
  {
   "cell_type": "markdown",
   "metadata": {},
   "source": [
    "<h1 style=\"color:Green\">Model Training</h1>\n"
   ]
  },
  {
   "cell_type": "code",
   "execution_count": null,
   "metadata": {},
   "outputs": [],
   "source": [
    "def train(train_input, train_output, learning_rate, iters):\n",
    "    \n",
    "    #random parameters\n",
    "    parameters = dict()\n",
    "    parameters[\"m\"] = np.random.uniform(0,1) \n",
    "    parameters[\"c\"] = np.random.uniform(0,1) \n",
    "    \n",
    "    plt.figure()\n",
    "    \n",
    "    #loss\n",
    "    loss = list()\n",
    "    \n",
    "    #iterate\n",
    "    for i in range(iters):\n",
    "        \n",
    "        #forward propagation\n",
    "        predictions = forward_propagation(train_input, parameters)\n",
    "        print(\"hello1\")\n",
    "        \n",
    "        #cost function\n",
    "        cost = cost_function(predictions, train_output)\n",
    "        print(\"hello2\")\n",
    "        \n",
    "        #append loss and print\n",
    "        loss.append(cost)\n",
    "        print(\"Iteration = {}, Loss = {}\".format(i+1, cost))\n",
    "        \n",
    "        #plot function\n",
    "        fig, ax = plt.subplots()\n",
    "        \n",
    "        ax.plot(train_input, train_output, '+', label='Original')\n",
    "        ax.plot(train_input, predictions, '*', label='Training')\n",
    "\n",
    "        legend = ax.legend()\n",
    "        \n",
    "        plt.plot(train_input, train_output, '+')\n",
    "        plt.plot(train_input, predictions, '*')        \n",
    "        \n",
    "        plt.show()\n",
    "        \n",
    "        #back propagation\n",
    "        derivatives = backward_propagation(predictions, train_output, train_input)\n",
    "        print(\"hello3\",derivatives)\n",
    "        \n",
    "        #update parameters\n",
    "        parameters = update_parameters(parameters, derivatives, learning_rate)\n",
    "        \n",
    "    return parameters, loss"
   ]
  },
  {
   "cell_type": "code",
   "execution_count": null,
   "metadata": {},
   "outputs": [],
   "source": [
    "parameters, loss= train(train_input, train_output, 0.0001, 20)"
   ]
  },
  {
   "cell_type": "markdown",
   "metadata": {},
   "source": [
    "Prediction"
   ]
  },
  {
   "cell_type": "code",
   "execution_count": null,
   "metadata": {},
   "outputs": [],
   "source": [
    "plt.plot(loss)"
   ]
  },
  {
   "cell_type": "code",
   "execution_count": null,
   "metadata": {},
   "outputs": [],
   "source": [
    "test_predictions = test_input * parameters['m'] + parameters['c']"
   ]
  },
  {
   "cell_type": "code",
   "execution_count": null,
   "metadata": {},
   "outputs": [],
   "source": [
    "plt.plot(test_input, test_predictions, \"+\")\n",
    "plt.plot(test_input, test_output, \".\")"
   ]
  },
  {
   "cell_type": "code",
   "execution_count": null,
   "metadata": {},
   "outputs": [],
   "source": [
    "cost = cost_function(test_predictions, test_output)"
   ]
  },
  {
   "cell_type": "code",
   "execution_count": null,
   "metadata": {},
   "outputs": [],
   "source": [
    "print(cost)"
   ]
  },
  {
   "cell_type": "code",
   "execution_count": null,
   "metadata": {},
   "outputs": [],
   "source": []
  }
 ],
 "metadata": {
  "kernelspec": {
   "display_name": "Python 3",
   "language": "python",
   "name": "python3"
  },
  "language_info": {
   "codemirror_mode": {
    "name": "ipython",
    "version": 3
   },
   "file_extension": ".py",
   "mimetype": "text/x-python",
   "name": "python",
   "nbconvert_exporter": "python",
   "pygments_lexer": "ipython3",
   "version": "3.10.11"
  }
 },
 "nbformat": 4,
 "nbformat_minor": 2
}
